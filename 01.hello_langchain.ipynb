{
 "cells": [
  {
   "cell_type": "markdown",
   "id": "49051213",
   "metadata": {},
   "source": [
    "# langchain 테스트"
   ]
  },
  {
   "cell_type": "code",
   "execution_count": 1,
   "id": "5064b94b",
   "metadata": {},
   "outputs": [],
   "source": [
    "import langchain"
   ]
  },
  {
   "cell_type": "code",
   "execution_count": 2,
   "id": "cb82cbd9",
   "metadata": {},
   "outputs": [
    {
     "data": {
      "text/plain": [
       "'0.3.25'"
      ]
     },
     "execution_count": 2,
     "metadata": {},
     "output_type": "execute_result"
    }
   ],
   "source": [
    "langchain.__version__"
   ]
  },
  {
   "cell_type": "code",
   "execution_count": 6,
   "id": "14033122",
   "metadata": {},
   "outputs": [],
   "source": [
    "from dotenv import load_dotenv\n",
    "import os\n",
    "\n",
    "load_dotenv('.env', override=True)\n",
    "OPENAI_API_KEY = os.environ[\"OPENAI_API_KEY\"]"
   ]
  },
  {
   "cell_type": "markdown",
   "id": "57026f31",
   "metadata": {},
   "source": [
    "# LLM 모델 라이브러리 설치\n",
    "- pip install -U langchain-openai"
   ]
  },
  {
   "cell_type": "markdown",
   "id": "c7d5eea7",
   "metadata": {},
   "source": [
    "# 사용할 모델 선택 및 langchain으로 openai gpt 모델과 통신"
   ]
  },
  {
   "cell_type": "markdown",
   "id": "d05f14d1",
   "metadata": {},
   "source": [
    "1. **ChatOpenAI**:\n",
    "\n",
    "    - 주로 대화형 애플리케이션에서 사용됩니다. 사용자의 질문과 응답을 처리하는 데 최적화되어 있으며, 대화의 흐름을 유지하기 위한 컨텍스트 관리 기능이 포함될 수 있습니다.\n",
    "    - 예를 들어, 챗봇이나 대화형 인터페이스에서 유용하게 사용됩니다."
   ]
  },
  {
   "cell_type": "markdown",
   "id": "c143aa75",
   "metadata": {},
   "source": [
    "2. **OpenAI**:\n",
    "\n",
    "    - 일반적인 텍스트 생성 작업에 사용됩니다. 대화형 인터페이스뿐만 아니라, 문서 생성, 텍스트 요약, 질문 응답 등 다양한 자연어 처리 작업을 처리하는 데 적합합니다.\n",
    "    - 기본적으로 GPT 모델을 호출하여 다양한 텍스트 기반 작업을 수행합니다."
   ]
  },
  {
   "cell_type": "code",
   "execution_count": 11,
   "id": "b4c0f60e",
   "metadata": {},
   "outputs": [
    {
     "data": {
      "text/plain": [
       "ChatOpenAI(client=<openai.resources.chat.completions.completions.Completions object at 0x0000019EFE9664B0>, async_client=<openai.resources.chat.completions.completions.AsyncCompletions object at 0x0000019EFE965250>, root_client=<openai.OpenAI object at 0x0000019EFE965AC0>, root_async_client=<openai.AsyncOpenAI object at 0x0000019EFE967920>, model_name='gpt-4o', model_kwargs={}, openai_api_key=SecretStr('**********'))"
      ]
     },
     "execution_count": 11,
     "metadata": {},
     "output_type": "execute_result"
    }
   ],
   "source": [
    "from langchain_openai import ChatOpenAI\n",
    "\n",
    "llm = ChatOpenAI(model=\"gpt-4o\")\n",
    "llm"
   ]
  },
  {
   "cell_type": "markdown",
   "id": "f3443503",
   "metadata": {},
   "source": [
    "# LangChain 메세지 만들기\n",
    "\n",
    "- 메시지는 리스트와  리스트의 요소는 튜플 형태로 구성하여 보냄"
   ]
  },
  {
   "cell_type": "code",
   "execution_count": 12,
   "id": "4e4122b9",
   "metadata": {},
   "outputs": [
    {
     "name": "stdout",
     "output_type": "stream",
     "text": [
      "서울에서 대표적인 음식을 맛볼 수 있는 레스토랑을 추천해 드리겠습니다.\n",
      "\n",
      "1. **토속촌삼계탕**\n",
      "   - **위치**: 종로구\n",
      "   - **소개**: 한국 전통 방식으로 끓인 삼계탕이 유명한 곳입니다. 부드럽고 진한 국물 맛이 일품입니다.\n",
      "\n",
      "2. **진진짜라**\n",
      "   - **위치**: 마포구\n",
      "   - **소개**: 서울에서 인기 있는 짜장면과 짬뽕 전문점입니다. 한국식 중식을 대표하는 메뉴들을 맛볼 수 있습니다.\n",
      "\n",
      "3. **가온**\n",
      "   - **위치**: 강남구\n",
      "   - **소개**: 미쉐린 3스타를 받은 한식 레스토랑으로, 전통 한식을 현대적으로 해석한 고급 요리를 제공합니다.\n",
      "\n",
      "4. **명동교자**\n",
      "   - **위치**: 중구\n",
      "   - **소개**: 칼국수로 유명한 식당입니다. 면발이 쫄깃하고 진한 육수가 매력적이며, 만두도 함께 즐길 수 있습니다.\n",
      "\n",
      "5. **우래옥**\n",
      "   - **위치**: 중구\n",
      "   - **소개**: 1946년부터 운영된 오래된 평양냉면집으로, 차가운 육수와 면의 조화가 일품입니다. 육즙이 풍부한 굴림 만두도 인기 메뉴입니다.\n",
      "\n",
      "이 레스토랑들은 각각의 특별한 매력을 갖고 있으며, 서울의 대표적인 음식을 맛보기에 안성맞춤입니다.\n"
     ]
    }
   ],
   "source": [
    "from langchain_core.messages import AIMessage, SystemMessage, HumanMessage\n",
    "messages = [\n",
    "    (\"system\", \"당신은 서울의 음식과 문화 전문가입니다.\"),\n",
    "    (\"human\", \"서울을 대표하는 음식을 맛볼 수 있는 레스토랑 5개를 추천해 주세요.\") \n",
    "]\n",
    "\n",
    "response = llm.invoke(messages)\n",
    "print(response.content)"
   ]
  },
  {
   "cell_type": "code",
   "execution_count": null,
   "id": "43c99801",
   "metadata": {},
   "outputs": [],
   "source": []
  }
 ],
 "metadata": {
  "kernelspec": {
   "display_name": "lc_env",
   "language": "python",
   "name": "python3"
  },
  "language_info": {
   "codemirror_mode": {
    "name": "ipython",
    "version": 3
   },
   "file_extension": ".py",
   "mimetype": "text/x-python",
   "name": "python",
   "nbconvert_exporter": "python",
   "pygments_lexer": "ipython3",
   "version": "3.12.11"
  }
 },
 "nbformat": 4,
 "nbformat_minor": 5
}
