{
 "cells": [
  {
   "cell_type": "markdown",
   "id": "0015c018",
   "metadata": {},
   "source": [
    "# 출력 파서 실습\n",
    "- 환경변수 설정 및 llm 객체 생성"
   ]
  },
  {
   "cell_type": "code",
   "execution_count": 10,
   "id": "daa4d677",
   "metadata": {},
   "outputs": [],
   "source": [
    "from dotenv import load_dotenv\n",
    "import os\n",
    "\n",
    "load_dotenv()\n",
    "api_key = os.environ[\"OPENAI_API_KEY\"]\n",
    "\n",
    "from langchain_openai import ChatOpenAI\n",
    "\n",
    "# llm = ChatOpenAI(model=\"gpt-4o\", api_key=api_key)\n",
    "llm = ChatOpenAI(model=\"gpt-3.5-turbo-0125\", api_key=api_key)"
   ]
  },
  {
   "cell_type": "markdown",
   "id": "92c1e14a",
   "metadata": {},
   "source": [
    "- 모듈 및 패키지 로딩"
   ]
  },
  {
   "cell_type": "code",
   "execution_count": 11,
   "id": "78052eb9",
   "metadata": {},
   "outputs": [],
   "source": [
    "from langchain_core.output_parsers import JsonOutputParser\n",
    "from langchain_core.prompts import PromptTemplate\n",
    "from pydantic import BaseModel, Field"
   ]
  },
  {
   "cell_type": "markdown",
   "id": "2f99d474",
   "metadata": {},
   "source": [
    "- 자료 구조 정의 (pydantic BaseModel을 상속 받음)"
   ]
  },
  {
   "cell_type": "code",
   "execution_count": 12,
   "id": "a21194a6",
   "metadata": {},
   "outputs": [],
   "source": [
    "class EmailParser(BaseModel):\n",
    "    sender_name: str = Field(description=\"이메일 송신자명\")\n",
    "    title: str = Field(description=\"이메일 제목\")\n",
    "    content: str = Field(description=\"이메일 내용\")"
   ]
  },
  {
   "cell_type": "markdown",
   "id": "2d4c575f",
   "metadata": {},
   "source": [
    "- json 파서"
   ]
  },
  {
   "cell_type": "code",
   "execution_count": 13,
   "id": "33aa8c76",
   "metadata": {},
   "outputs": [
    {
     "name": "stdout",
     "output_type": "stream",
     "text": [
      "The output should be formatted as a JSON instance that conforms to the JSON schema below.\n",
      "\n",
      "As an example, for the schema {\"properties\": {\"foo\": {\"title\": \"Foo\", \"description\": \"a list of strings\", \"type\": \"array\", \"items\": {\"type\": \"string\"}}}, \"required\": [\"foo\"]}\n",
      "the object {\"foo\": [\"bar\", \"baz\"]} is a well-formatted instance of the schema. The object {\"properties\": {\"foo\": [\"bar\", \"baz\"]}} is not well-formatted.\n",
      "\n",
      "Here is the output schema:\n",
      "```\n",
      "{\"properties\": {\"sender_name\": {\"description\": \"이메일 송신자명\", \"title\": \"Sender Name\", \"type\": \"string\"}, \"title\": {\"description\": \"이메일 제목\", \"title\": \"Title\", \"type\": \"string\"}, \"content\": {\"description\": \"이메일 내용\", \"title\": \"Content\", \"type\": \"string\"}}, \"required\": [\"sender_name\", \"title\", \"content\"]}\n",
      "```\n"
     ]
    }
   ],
   "source": [
    "parser = JsonOutputParser(pydantic_object=EmailParser)\n",
    "print(parser.get_format_instructions())"
   ]
  },
  {
   "cell_type": "markdown",
   "id": "ce01eec2",
   "metadata": {},
   "source": [
    "- 프롬프트 템플릿 작성"
   ]
  },
  {
   "cell_type": "code",
   "execution_count": 14,
   "id": "d5457f4f",
   "metadata": {},
   "outputs": [
    {
     "data": {
      "text/plain": [
       "PromptTemplate(input_variables=['email'], input_types={}, partial_variables={'format_instructions': 'The output should be formatted as a JSON instance that conforms to the JSON schema below.\\n\\nAs an example, for the schema {\"properties\": {\"foo\": {\"title\": \"Foo\", \"description\": \"a list of strings\", \"type\": \"array\", \"items\": {\"type\": \"string\"}}}, \"required\": [\"foo\"]}\\nthe object {\"foo\": [\"bar\", \"baz\"]} is a well-formatted instance of the schema. The object {\"properties\": {\"foo\": [\"bar\", \"baz\"]}} is not well-formatted.\\n\\nHere is the output schema:\\n```\\n{\"properties\": {\"sender_name\": {\"description\": \"이메일 송신자명\", \"title\": \"Sender Name\", \"type\": \"string\"}, \"title\": {\"description\": \"이메일 제목\", \"title\": \"Title\", \"type\": \"string\"}, \"content\": {\"description\": \"이메일 내용\", \"title\": \"Content\", \"type\": \"string\"}}, \"required\": [\"sender_name\", \"title\", \"content\"]}\\n```'}, template='이메일을 읽고 요약해 주세요.\\n{format_instructions}\\n{email}\\n')"
      ]
     },
     "execution_count": 14,
     "metadata": {},
     "output_type": "execute_result"
    }
   ],
   "source": [
    "prompt_template = PromptTemplate(\n",
    "    template=\"이메일을 읽고 요약해 주세요.\\n{format_instructions}\\n{email}\\n\",\n",
    "    input_variables=[\"email\"],\n",
    "    partial_variables={\"format_instructions\": parser.get_format_instructions()},\n",
    ")\n",
    "prompt_template "
   ]
  },
  {
   "cell_type": "markdown",
   "id": "591924ac",
   "metadata": {},
   "source": [
    "- 템플릿 포멧팅"
   ]
  },
  {
   "cell_type": "code",
   "execution_count": 15,
   "id": "2008c315",
   "metadata": {},
   "outputs": [
    {
     "name": "stdout",
     "output_type": "stream",
     "text": [
      "이메일을 읽고 요약해 주세요.\n",
      "The output should be formatted as a JSON instance that conforms to the JSON schema below.\n",
      "\n",
      "As an example, for the schema {\"properties\": {\"foo\": {\"title\": \"Foo\", \"description\": \"a list of strings\", \"type\": \"array\", \"items\": {\"type\": \"string\"}}}, \"required\": [\"foo\"]}\n",
      "the object {\"foo\": [\"bar\", \"baz\"]} is a well-formatted instance of the schema. The object {\"properties\": {\"foo\": [\"bar\", \"baz\"]}} is not well-formatted.\n",
      "\n",
      "Here is the output schema:\n",
      "```\n",
      "{\"properties\": {\"sender_name\": {\"description\": \"이메일 송신자명\", \"title\": \"Sender Name\", \"type\": \"string\"}, \"title\": {\"description\": \"이메일 제목\", \"title\": \"Title\", \"type\": \"string\"}, \"content\": {\"description\": \"이메일 내용\", \"title\": \"Content\", \"type\": \"string\"}}, \"required\": [\"sender_name\", \"title\", \"content\"]}\n",
      "```\n",
      "보내는 사람: 김철수\n",
      "제목: 오늘의 회의록\n",
      "내용: 오늘 회의록을 보내드립니다. 내용은 첨부파일을 확인해 주세요.\n",
      "\n"
     ]
    }
   ],
   "source": [
    "prompt = prompt_template.format(email=\"보내는 사람: 김철수\\n제목: 오늘의 회의록\\n내용: 오늘 회의록을 보내드립니다. 내용은 첨부파일을 확인해 주세요.\")\n",
    "print(prompt)"
   ]
  },
  {
   "cell_type": "markdown",
   "id": "dbfb2b18",
   "metadata": {},
   "source": [
    "- llm에 요청을 보내고, 응답 받기"
   ]
  },
  {
   "cell_type": "code",
   "execution_count": 16,
   "id": "7b6b7acc",
   "metadata": {},
   "outputs": [],
   "source": [
    "response = llm.invoke(prompt)"
   ]
  },
  {
   "cell_type": "markdown",
   "id": "59d49d3f",
   "metadata": {},
   "source": [
    "- 응답 결과 파싱하기"
   ]
  },
  {
   "cell_type": "code",
   "execution_count": 17,
   "id": "ae6eb7f9",
   "metadata": {},
   "outputs": [
    {
     "name": "stdout",
     "output_type": "stream",
     "text": [
      "{'sender_name': '김철수', 'title': '오늘의 회의록', 'content': '오늘 회의록을 보내드립니다. 내용은 첨부파일을 확인해 주세요.'}\n"
     ]
    }
   ],
   "source": [
    "parsed_output = parser.invoke(response)\n",
    "print(parsed_output)"
   ]
  },
  {
   "cell_type": "markdown",
   "id": "c2a2aaf9",
   "metadata": {},
   "source": [
    "- 문제해결 : LCEL로 실행하기\n",
    "    - LCEL(**LangChain Expression Language**)"
   ]
  },
  {
   "cell_type": "code",
   "execution_count": 18,
   "id": "1faaa7c9",
   "metadata": {},
   "outputs": [],
   "source": [
    "# chain = 프롬프트템플릿 | llm_모델 | 파서 \n",
    "# chain.invoke({\"변수\": \"질문\"})"
   ]
  },
  {
   "cell_type": "code",
   "execution_count": 22,
   "id": "95dccfde",
   "metadata": {},
   "outputs": [],
   "source": [
    "# chain = 프롬프트템플릿 | llm_모델 | 파서 \n",
    "# chain.invoke({\"변수\": \"질문\"})\n",
    "chain = prompt_template | llm | parser\n",
    "\n",
    "email = \"보내는 사람: 김철수\\n제목: 오늘의 회의록\\n내용: 오늘 회의록을 보내드립니다. 내용은 첨부파일을 확인해 주세요.\"\n",
    "\n",
    "response = chain.invoke({\"email\":email})"
   ]
  },
  {
   "cell_type": "code",
   "execution_count": 23,
   "id": "60f328e6",
   "metadata": {},
   "outputs": [
    {
     "data": {
      "text/plain": [
       "{'sender_name': '김철수',\n",
       " 'title': '오늘의 회의록',\n",
       " 'content': '오늘 회의록을 보내드립니다. 내용은 첨부파일을 확인해 주세요.'}"
      ]
     },
     "execution_count": 23,
     "metadata": {},
     "output_type": "execute_result"
    }
   ],
   "source": [
    "response"
   ]
  },
  {
   "cell_type": "code",
   "execution_count": 20,
   "id": "3db69ee5",
   "metadata": {},
   "outputs": [
    {
     "name": "stdout",
     "output_type": "stream",
     "text": [
      "{'sender_name': '홍길동', 'title': '회의 일정 안내', 'content': '다음 주 월요일 오전 10시에 서울 본사 회의실에서 프로젝트 킥오프 회의가 예정되어 있으며 참석 요청이 있습니다.'}\n"
     ]
    }
   ],
   "source": [
    "# ✅ 사전 설치 필요: pip install -U langchain langchain-openai python-dotenv\n",
    "\n",
    "from dotenv import load_dotenv\n",
    "import os\n",
    "from langchain_openai import ChatOpenAI\n",
    "from langchain_core.prompts import PromptTemplate\n",
    "from langchain_core.output_parsers import JsonOutputParser\n",
    "from pydantic import BaseModel, Field\n",
    "\n",
    "# 1. 🔑 환경 변수 로딩 (OPENAI_API_KEY)\n",
    "load_dotenv()\n",
    "api_key = os.environ[\"OPENAI_API_KEY\"]\n",
    "\n",
    "# 2. 🧠 사용할 GPT 모델 정의\n",
    "llm = ChatOpenAI(model=\"gpt-4o\", api_key=api_key)\n",
    "\n",
    "# 3. 🧾 출력 결과의 구조 정의 (Pydantic 기반)\n",
    "class EmailParser(BaseModel):\n",
    "    sender_name: str = Field(description=\"이메일 송신자 이름\")\n",
    "    title: str = Field(description=\"이메일 제목\")\n",
    "    content: str = Field(description=\"이메일 본문 요약\")\n",
    "\n",
    "# 4. 🧰 Output Parser 생성\n",
    "parser = JsonOutputParser(pydantic_object=EmailParser)\n",
    "\n",
    "# 5. 🧱 프롬프트 템플릿 구성\n",
    "prompt_template = PromptTemplate(\n",
    "    template=(\n",
    "        \"아래 이메일을 읽고 다음 JSON 형식에 맞게 요약하세요.\\n\"\n",
    "        \"{format_instructions}\\n\\n\"\n",
    "        \"이메일 전문:\\n{email}\"\n",
    "    ),\n",
    "    input_variables=[\"email\"],\n",
    "    partial_variables={\"format_instructions\": parser.get_format_instructions()},\n",
    ")\n",
    "\n",
    "# 6. 🔁 LCEL로 파이프라인 구성\n",
    "chain = prompt_template | llm | parser\n",
    "\n",
    "# 7. 📥 실행할 샘플 이메일\n",
    "sample_email = \"\"\"\n",
    "보낸 사람: 홍길동\n",
    "제목: 회의 일정 안내\n",
    "내용: 안녕하세요. 다음 주 월요일 오전 10시에 서울 본사 회의실에서 프로젝트 킥오프 회의가 예정되어 있습니다. 모두 참석 바랍니다.\n",
    "\"\"\"\n",
    "\n",
    "# 8. 🚀 실행\n",
    "result = chain.invoke({\"email\": sample_email})\n",
    "\n",
    "# 9. ✅ 결과 출력 (Pydantic 객체로 반환됨)\n",
    "print(result)\n"
   ]
  },
  {
   "cell_type": "code",
   "execution_count": 21,
   "id": "88c5e5cc",
   "metadata": {},
   "outputs": [
    {
     "data": {
      "text/plain": [
       "AIMessage(content='{\\n    \"sender_name\": \"김철수\",\\n    \"title\": \"오늘의 회의록\",\\n    \"content\": \"오늘 회의록을 보내드립니다. 내용은 첨부파일을 확인해 주세요.\"\\n}', additional_kwargs={'refusal': None}, response_metadata={'token_usage': {'completion_tokens': 61, 'prompt_tokens': 294, 'total_tokens': 355, 'completion_tokens_details': {'accepted_prediction_tokens': 0, 'audio_tokens': 0, 'reasoning_tokens': 0, 'rejected_prediction_tokens': 0}, 'prompt_tokens_details': {'audio_tokens': 0, 'cached_tokens': 0}}, 'model_name': 'gpt-3.5-turbo-0125', 'system_fingerprint': None, 'id': 'chatcmpl-BgRq3tYBRKWmePbCeGnHtJ5PE8Wfy', 'service_tier': 'default', 'finish_reason': 'stop', 'logprobs': None}, id='run--2ebe80a6-2744-44b1-bec9-2c587ea3f5b2-0', usage_metadata={'input_tokens': 294, 'output_tokens': 61, 'total_tokens': 355, 'input_token_details': {'audio': 0, 'cache_read': 0}, 'output_token_details': {'audio': 0, 'reasoning': 0}})"
      ]
     },
     "execution_count": 21,
     "metadata": {},
     "output_type": "execute_result"
    }
   ],
   "source": [
    "response"
   ]
  },
  {
   "cell_type": "code",
   "execution_count": null,
   "id": "55d02611",
   "metadata": {},
   "outputs": [],
   "source": []
  }
 ],
 "metadata": {
  "kernelspec": {
   "display_name": "lc_env",
   "language": "python",
   "name": "python3"
  },
  "language_info": {
   "codemirror_mode": {
    "name": "ipython",
    "version": 3
   },
   "file_extension": ".py",
   "mimetype": "text/x-python",
   "name": "python",
   "nbconvert_exporter": "python",
   "pygments_lexer": "ipython3",
   "version": "3.12.11"
  }
 },
 "nbformat": 4,
 "nbformat_minor": 5
}
