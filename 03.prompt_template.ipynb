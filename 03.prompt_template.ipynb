{
 "cells": [
  {
   "cell_type": "markdown",
   "id": "dc1d9b20",
   "metadata": {},
   "source": [
    "# 프롬프트 템플릿 작성"
   ]
  },
  {
   "cell_type": "code",
   "execution_count": 3,
   "id": "3ea0c48a",
   "metadata": {},
   "outputs": [],
   "source": [
    "from dotenv import load_dotenv\n",
    "import os\n",
    "\n",
    "load_dotenv()\n",
    "api_key = os.environ[\"OPENAI_API_KEY\"]"
   ]
  },
  {
   "cell_type": "code",
   "execution_count": 4,
   "id": "df5e14d8",
   "metadata": {},
   "outputs": [
    {
     "data": {
      "text/plain": [
       "ChatOpenAI(client=<openai.resources.chat.completions.completions.Completions object at 0x000001A053792840>, async_client=<openai.resources.chat.completions.completions.AsyncCompletions object at 0x000001A053F26AB0>, root_client=<openai.OpenAI object at 0x000001A0524A9640>, root_async_client=<openai.AsyncOpenAI object at 0x000001A0521BA4E0>, model_name='gpt-3.5-turbo-0125', model_kwargs={}, openai_api_key=SecretStr('**********'))"
      ]
     },
     "execution_count": 4,
     "metadata": {},
     "output_type": "execute_result"
    }
   ],
   "source": [
    "from langchain_openai import ChatOpenAI\n",
    "\n",
    "# llm = ChatOpenAI(model=\"gpt-4o\", api_key=api_key)\n",
    "llm = ChatOpenAI(model=\"gpt-3.5-turbo-0125\", api_key=api_key)\n",
    "llm"
   ]
  },
  {
   "cell_type": "markdown",
   "id": "263649dc",
   "metadata": {},
   "source": [
    "# 템플릿 객체 사용"
   ]
  },
  {
   "cell_type": "code",
   "execution_count": 5,
   "id": "50ad8fa6",
   "metadata": {},
   "outputs": [
    {
     "name": "stdout",
     "output_type": "stream",
     "text": [
      "서울에서 가장 유명한 맛집을 알려주세요.\n"
     ]
    }
   ],
   "source": [
    "from langchain.prompts import PromptTemplate\n",
    "\n",
    "# template 객체 생성 및 구성 정의\n",
    "template = PromptTemplate.from_template(\n",
    "    \"{city}에서 {adjective} {topic}을 알려주세요.\")\n",
    "\n",
    "# template.format()으로 템플릿에 값을 대입\n",
    "prompt = template.format(city=\"서울\", \n",
    "                        adjective=\"가장 유명한\",\n",
    "                        topic=\"맛집\"\n",
    "                         )\n",
    "print(prompt)"
   ]
  },
  {
   "cell_type": "code",
   "execution_count": 6,
   "id": "57048052",
   "metadata": {},
   "outputs": [],
   "source": [
    "# llm에 질문 요청\n",
    "response = llm.invoke(prompt)"
   ]
  },
  {
   "cell_type": "code",
   "execution_count": 7,
   "id": "7b9cf44e",
   "metadata": {},
   "outputs": [
    {
     "data": {
      "text/plain": [
       "AIMessage(content=\"서울에서 가장 유명한 맛집은 매년 세계적으로 유명한 50 Best Restaurants 리스트에도 올라가는 '장수서원'입니다. 이 곳은 전통적인 한식 요리를 현대적으로 재해석한 요리로 손님들에게 최상의 맛과 서비스를 제공합니다. 특히 한국의 전통 주류를 활용한 맞춤 술과 함께 맛볼 수 있는 전통 주류 메뉴 역시 유명합니다. 반드시 미리 예약을 해서 방문하는 것이 좋습니다.\", additional_kwargs={'refusal': None}, response_metadata={'token_usage': {'completion_tokens': 174, 'prompt_tokens': 28, 'total_tokens': 202, 'completion_tokens_details': {'accepted_prediction_tokens': 0, 'audio_tokens': 0, 'reasoning_tokens': 0, 'rejected_prediction_tokens': 0}, 'prompt_tokens_details': {'audio_tokens': 0, 'cached_tokens': 0}}, 'model_name': 'gpt-3.5-turbo-0125', 'system_fingerprint': None, 'id': 'chatcmpl-BgQH00jDjSWibjHiqtDIZuzPniWN7', 'service_tier': 'default', 'finish_reason': 'stop', 'logprobs': None}, id='run--5bb4694f-7789-442f-982b-92e7129afc0b-0', usage_metadata={'input_tokens': 28, 'output_tokens': 174, 'total_tokens': 202, 'input_token_details': {'audio': 0, 'cache_read': 0}, 'output_token_details': {'audio': 0, 'reasoning': 0}})"
      ]
     },
     "execution_count": 7,
     "metadata": {},
     "output_type": "execute_result"
    }
   ],
   "source": [
    "response"
   ]
  },
  {
   "cell_type": "code",
   "execution_count": 8,
   "id": "35af2195",
   "metadata": {},
   "outputs": [
    {
     "name": "stdout",
     "output_type": "stream",
     "text": [
      "서울에서 가장 유명한 맛집은 매년 세계적으로 유명한 50 Best Restaurants 리스트에도 올라가는 '장수서원'입니다. 이 곳은 전통적인 한식 요리를 현대적으로 재해석한 요리로 손님들에게 최상의 맛과 서비스를 제공합니다. 특히 한국의 전통 주류를 활용한 맞춤 술과 함께 맛볼 수 있는 전통 주류 메뉴 역시 유명합니다. 반드시 미리 예약을 해서 방문하는 것이 좋습니다.\n"
     ]
    }
   ],
   "source": [
    "print(response.content)"
   ]
  },
  {
   "cell_type": "code",
   "execution_count": 9,
   "id": "ef67d7b5",
   "metadata": {},
   "outputs": [],
   "source": [
    "# template 객체를 JSON 파일로 저장\n",
    "template.save(\"template.json\")"
   ]
  },
  {
   "cell_type": "markdown",
   "id": "850351f1",
   "metadata": {},
   "source": [
    "# Chat Prompt Template"
   ]
  },
  {
   "cell_type": "code",
   "execution_count": 11,
   "id": "12174afd",
   "metadata": {},
   "outputs": [],
   "source": [
    "from langchain_openai import ChatOpenAI\n",
    "from langchain.prompts import ChatPromptTemplate\n",
    "\n",
    "llm = ChatOpenAI(\n",
    "    model=\"gpt-3.5-turbo-0125\",\n",
    "    api_key=api_key,\n",
    "    temperature=0.0,\n",
    "    max_tokens=1000\n",
    ")\n",
    "\n",
    "chat_template = ChatPromptTemplate.from_messages([\n",
    "    (\"system\", \"당신은 베테랑 영행 가이드로, 고객 최적의 맞춤 여행 일정 수립을 도와줍니다.\"),\n",
    "    (\"human\", \"여름에 {place}로 {travel_type}을 가려고 합니다.\"),\n",
    "    (\"ai\", \"제가 바로 {place} 전문 여행 가이드입니다. 어떤 도움이 필요하신가요?\"),\n",
    "    (\"human\", \" 다음 질문에 답해주세요: {questions}\")\n",
    "])\n",
    "\n",
    "prompt = chat_template.format_messages(\n",
    "    when=\"여름\",\n",
    "    place=\"동남아\",\n",
    "    travel_type=\"가족여행\",\n",
    "    questions=[\n",
    "        \"여름에 동남아로 가족여행을 가면 어떤 것을 준비해야 할까요?\",\n",
    "        \"동남아에서 가족과 함께 할 수 있는 활동은 무엇이 있을까요?\",\n",
    "        \"가족과 함께 동남아에서 추천할 만한 음식은 무엇인가요?\",\n",
    "        \"해당 지역의 여행지에 여름에 가족이 즐길만한 5군데를 추천해 주세요.\"\n",
    "    ]\n",
    ")"
   ]
  },
  {
   "cell_type": "code",
   "execution_count": 12,
   "id": "47d2005a",
   "metadata": {},
   "outputs": [],
   "source": [
    "response = llm.invoke(prompt)"
   ]
  },
  {
   "cell_type": "code",
   "execution_count": 13,
   "id": "ef29ed8c",
   "metadata": {},
   "outputs": [
    {
     "name": "stdout",
     "output_type": "stream",
     "text": [
      "물론입니다. 각 질문에 대한 답변을 순서대로 제공해 드리겠습니다.\n",
      "\n",
      "1. 여름에 동남아로 가족여행을 준비할 때는 다음을 고려해야 합니다:\n",
      "   - 충분한 태양 차단제와 모자, 선글라스를 준비하여 햇빛으로부터 피부를 보호하세요.\n",
      "   - 수영복과 비치용품을 챙기고, 수영을 즐길 수 있는 곳을 찾아보세요.\n",
      "   - 의약품과 병원 방문 시 필요한 서류를 준비하여 응급 상황에 대비하세요.\n",
      "   - 지역 특산품이나 선물용품을 구매할 수 있는 예산을 미리 계획하세요.\n",
      "\n",
      "2. 동남아에서 가족과 함께 즐길 수 있는 활동은 다양합니다. 몇 가지 예시는 다음과 같습니다:\n",
      "   - 해변에서 수영하거나 해양 스포츠를 즐기세요.\n",
      "   - 역사적인 유적지나 박물관을 방문하여 문화체험을 즐기세요.\n",
      "   - 현지 시장이나 거리 음식점에서 현지 음식을 맛보며 로컬 문화를 경험하세요.\n",
      "   - 정글 트레킹이나 자연 보호구역을 탐험하여 자연 속에서 활동하세요.\n",
      "\n",
      "3. 동남아에서 가족과 함께 추천할 만한 음식은 다양합니다. 몇 가지 대표적인 음식은 다음과 같습니다:\n",
      "   - 태국의 태국 카레, 소고기 파드 타이, 소망콩쌀국수\n",
      "   - 인도네시아의 난땅, 미고령, 갈리안\n",
      "   - 말레이시아의 나시렘빠, 차르쿠이데오, 루토피스\n",
      "\n",
      "4. 동남아 지역에서 여름에 가족이 즐길만한 5군데의 여행지를 추천해 드리겠습니다:\n",
      "   - 태국의 프라치나부리, 코사무이 섬\n",
      "   - 인도네시아의 발리 섬, 르완다 섬\n",
      "   - 말레이시아의 랑카위, 코타키나발루\n",
      "   - 필리핀의 보라카이 섬, 세부\n",
      "   - 베트남의 다낭, 나트랑\n",
      "\n",
      "이렇게 준비하시면 가족과 함께 즐거운 동남아 여행을 즐길 수 있을 것입니다. 추가로 궁금한 점이 있으시면 언제든지 물어보세요.\n"
     ]
    }
   ],
   "source": [
    "print(response.content)"
   ]
  },
  {
   "cell_type": "markdown",
   "id": "297d768b",
   "metadata": {},
   "source": [
    "# prompt pipeline 구성 방법"
   ]
  },
  {
   "cell_type": "code",
   "execution_count": 14,
   "id": "ef94f99f",
   "metadata": {},
   "outputs": [
    {
     "data": {
      "text/plain": [
       "PromptTemplate(input_variables=['prompt_1', 'prompt_2'], input_types={}, partial_variables={}, template='\\n{prompt_1}\\n{prompt_2}\\n')"
      ]
     },
     "execution_count": 14,
     "metadata": {},
     "output_type": "execute_result"
    }
   ],
   "source": [
    "from langchain.prompts import PromptTemplate\n",
    "from langchain.prompts.pipeline import PipelinePromptTemplate\n",
    "\n",
    "prompt_1 = PromptTemplate.from_template(\"당신은 {place} 베테랑 여행 가이드입니다. \")\n",
    "prompt_2 = PromptTemplate.from_template(\"고객 최적의 {place} {travel} 일정 수립을 도와줍니다.\")\n",
    "\n",
    "final_template = \"\"\"\n",
    "{prompt_1}\n",
    "{prompt_2}\n",
    "\"\"\"\n",
    "\n",
    "final_prompt = PromptTemplate.from_template(final_template)\n",
    "final_prompt"
   ]
  },
  {
   "cell_type": "code",
   "execution_count": 15,
   "id": "44969097",
   "metadata": {},
   "outputs": [
    {
     "name": "stderr",
     "output_type": "stream",
     "text": [
      "C:\\Users\\Admin\\AppData\\Local\\Temp\\ipykernel_15828\\2241444554.py:8: LangChainDeprecationWarning: This class is deprecated. Please see the docstring below or at the link for a replacement option: https://python.langchain.com/api_reference/core/prompts/langchain_core.prompts.pipeline.PipelinePromptTemplate.html\n",
      "  pipeline = PipelinePromptTemplate(\n"
     ]
    }
   ],
   "source": [
    "# 프롬프트 파이프라인 설정\n",
    "pipeline_prompts = [\n",
    "    (\"prompt_1\", prompt_1),\n",
    "    (\"prompt_2\", prompt_2)\n",
    "]\n",
    "\n",
    "# PipelinePromptTemplate 생성\n",
    "pipeline = PipelinePromptTemplate(\n",
    "    final_prompt=final_prompt,\n",
    "    pipeline_prompts=pipeline_prompts\n",
    ")"
   ]
  },
  {
   "cell_type": "code",
   "execution_count": 16,
   "id": "82ad2c8a",
   "metadata": {},
   "outputs": [
    {
     "name": "stdout",
     "output_type": "stream",
     "text": [
      "✅ 최종 생성된 프롬프트:\n",
      "\n",
      "\n",
      "당신은 제주도 베테랑 여행 가이드입니다. \n",
      "고객 최적의 제주도 3박 4일 일정 수립을 도와줍니다.\n",
      "\n"
     ]
    }
   ],
   "source": [
    "# 테스트 입력\n",
    "input_data = {\n",
    "    \"place\": \"제주도\",\n",
    "    \"travel\": \"3박 4일\"\n",
    "}\n",
    "\n",
    "# 최종 프롬프트 텍스트 생성\n",
    "formatted_prompt = pipeline.format(**input_data)\n",
    "\n",
    "# 결과 출력\n",
    "print(\"✅ 최종 생성된 프롬프트:\\n\")\n",
    "print(formatted_prompt)"
   ]
  },
  {
   "cell_type": "markdown",
   "id": "85697875",
   "metadata": {},
   "source": [
    "# 부분 프롬프트"
   ]
  },
  {
   "cell_type": "code",
   "execution_count": 17,
   "id": "174ae676",
   "metadata": {},
   "outputs": [
    {
     "name": "stdout",
     "output_type": "stream",
     "text": [
      "서울에서 유명한 한정식집을 알려주세요.\n",
      "부산에서 유명한 해운대을 알려주세요.\n"
     ]
    }
   ],
   "source": [
    "# 기본 템플릿 정의\n",
    "prompt = PromptTemplate(template=\"{city}에서 유명한 {place}을 알려주세요.\", \n",
    "                        input_variables=[\"place\"],          # 사용자 입력이 필요한 변수\n",
    "                        partial_variables={\"city\": \"서울\"})  # 초기값 입력\n",
    "\n",
    "# input_variables 값 입력                        \n",
    "print(prompt.format(place=\"한정식집\"))\n",
    "\n",
    "# partial_variables 값 변경\n",
    "partial_prompt = prompt.partial(city=\"부산\")\n",
    "\n",
    "# input_variables 값 입력\n",
    "print(partial_prompt.format(place=\"해운대\"))"
   ]
  },
  {
   "cell_type": "markdown",
   "id": "12f06f8a",
   "metadata": {},
   "source": [
    "# 프롬프트로 질문하기"
   ]
  },
  {
   "cell_type": "markdown",
   "id": "e2903367",
   "metadata": {},
   "source": [
    "## 방법 1"
   ]
  },
  {
   "cell_type": "code",
   "execution_count": 20,
   "id": "14f9103d",
   "metadata": {},
   "outputs": [],
   "source": [
    "prpt = partial_prompt.format(place=\"해운대\")\n",
    "response = llm.invoke(prpt)"
   ]
  },
  {
   "cell_type": "code",
   "execution_count": 21,
   "id": "cb299d70",
   "metadata": {},
   "outputs": [
    {
     "name": "stdout",
     "output_type": "stream",
     "text": [
      "부산에서 유명한 해운대는 해수욕장으로 유명한 곳입니다. 해운대 해수욕장은 깨끗한 백사장과 맑은 바다물로 유명하며, 해운대 광안대교와 함께 부산을 대표하는 관광 명소로 손꼽힙니다. 또한 해운대 주변에는 다양한 관광 명소와 맛집, 호텔 등이 있어 해운대를 방문하는 관광객들에게 인기가 많은 곳입니다.\n"
     ]
    }
   ],
   "source": [
    "print(response.content)"
   ]
  },
  {
   "cell_type": "markdown",
   "id": "98e62cda",
   "metadata": {},
   "source": [
    "## 방법 2"
   ]
  },
  {
   "cell_type": "markdown",
   "id": "c081bc8c",
   "metadata": {},
   "source": [
    "- LCEL(LangChain Expression Language) 사용 예시"
   ]
  },
  {
   "cell_type": "code",
   "execution_count": 22,
   "id": "1663c1f5",
   "metadata": {},
   "outputs": [],
   "source": [
    "from langchain_core.output_parsers import StrOutputParser\n",
    "chain = partial_prompt | llm | StrOutputParser()"
   ]
  },
  {
   "cell_type": "code",
   "execution_count": 23,
   "id": "002bc359",
   "metadata": {},
   "outputs": [
    {
     "data": {
      "text/plain": [
       "PromptTemplate(input_variables=['place'], input_types={}, partial_variables={'city': '부산'}, template='{city}에서 유명한 {place}을 알려주세요.')\n",
       "| ChatOpenAI(client=<openai.resources.chat.completions.completions.Completions object at 0x000001A0540CD2B0>, async_client=<openai.resources.chat.completions.completions.AsyncCompletions object at 0x000001A0540CEAB0>, root_client=<openai.OpenAI object at 0x000001A0540CCAA0>, root_async_client=<openai.AsyncOpenAI object at 0x000001A0540CDBE0>, model_name='gpt-3.5-turbo-0125', temperature=0.0, model_kwargs={}, openai_api_key=SecretStr('**********'), max_tokens=1000)\n",
       "| StrOutputParser()"
      ]
     },
     "execution_count": 23,
     "metadata": {},
     "output_type": "execute_result"
    }
   ],
   "source": [
    "chain"
   ]
  },
  {
   "cell_type": "code",
   "execution_count": 24,
   "id": "240c35ff",
   "metadata": {},
   "outputs": [],
   "source": [
    "# 전달값은 dict 형이여야 함. {\"place\": \"해운대\"}\n",
    "chain_res = chain.invoke({\"place\": \"해운대\"})  "
   ]
  },
  {
   "cell_type": "code",
   "execution_count": 25,
   "id": "f039cfc0",
   "metadata": {},
   "outputs": [
    {
     "data": {
      "text/plain": [
       "'부산의 대표적인 관광지인 해운대는 국내외에서 많은 관광객들이 찾는 해변입니다. 해운대 해수욕장은 깨끗한 백사장과 맑은 바다빛으로 유명하며, 여름에는 많은 사람들이 해수욕을 즐기러 찾습니다. 또한 해운대 광안대교, 해운대 마린시티, 해운대 동백섬 등 다양한 관광 명소들이 있어 부산을 방문하는 이들에게 인기 있는 장소입니다. 해운대는 또한 맛집과 숙박시설이 풍부하여 편안한 여행을 즐길 수 있는 곳으로 유명합니다.'"
      ]
     },
     "execution_count": 25,
     "metadata": {},
     "output_type": "execute_result"
    }
   ],
   "source": [
    "chain_res"
   ]
  },
  {
   "cell_type": "code",
   "execution_count": null,
   "id": "ada09761",
   "metadata": {},
   "outputs": [],
   "source": []
  }
 ],
 "metadata": {
  "kernelspec": {
   "display_name": "lc_env",
   "language": "python",
   "name": "python3"
  },
  "language_info": {
   "codemirror_mode": {
    "name": "ipython",
    "version": 3
   },
   "file_extension": ".py",
   "mimetype": "text/x-python",
   "name": "python",
   "nbconvert_exporter": "python",
   "pygments_lexer": "ipython3",
   "version": "3.12.11"
  }
 },
 "nbformat": 4,
 "nbformat_minor": 5
}
